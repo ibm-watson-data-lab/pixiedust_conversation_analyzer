{
 "cells": [
  {
   "cell_type": "code",
   "execution_count": 80,
   "metadata": {},
   "outputs": [
    {
     "name": "stdout",
     "output_type": "stream",
     "text": [
      "Requirement already satisfied: pixiedust in /Users/Srishti.Arora@ibm.com/PixieDust/pixiedust\n",
      "Requirement already satisfied: mpld3 in /anaconda3/lib/python3.6/site-packages (from pixiedust)\n",
      "Requirement already satisfied: lxml in /Users/Srishti.Arora@ibm.com/.local/lib/python3.6/site-packages (from pixiedust)\n",
      "Requirement already satisfied: geojson in /anaconda3/lib/python3.6/site-packages (from pixiedust)\n",
      "Requirement already satisfied: watson_developer_cloud in /Users/Srishti.Arora@ibm.com/.local/lib/python3.6/site-packages\n",
      "Requirement already satisfied: requests<3.0,>=2.0 in /anaconda3/lib/python3.6/site-packages (from watson_developer_cloud)\n",
      "Requirement already satisfied: pysolr<4.0,>=3.3 in /Users/Srishti.Arora@ibm.com/.local/lib/python3.6/site-packages (from watson_developer_cloud)\n",
      "Requirement already satisfied: pyOpenSSL>=16.2.0 in /anaconda3/lib/python3.6/site-packages (from watson_developer_cloud)\n",
      "Requirement already satisfied: chardet<3.1.0,>=3.0.2 in /anaconda3/lib/python3.6/site-packages (from requests<3.0,>=2.0->watson_developer_cloud)\n",
      "Requirement already satisfied: idna<2.7,>=2.5 in /anaconda3/lib/python3.6/site-packages (from requests<3.0,>=2.0->watson_developer_cloud)\n",
      "Requirement already satisfied: urllib3<1.23,>=1.21.1 in /anaconda3/lib/python3.6/site-packages (from requests<3.0,>=2.0->watson_developer_cloud)\n",
      "Requirement already satisfied: certifi>=2017.4.17 in /anaconda3/lib/python3.6/site-packages (from requests<3.0,>=2.0->watson_developer_cloud)\n",
      "Requirement already satisfied: cryptography>=1.9 in /anaconda3/lib/python3.6/site-packages (from pyOpenSSL>=16.2.0->watson_developer_cloud)\n",
      "Requirement already satisfied: six>=1.5.2 in /anaconda3/lib/python3.6/site-packages (from pyOpenSSL>=16.2.0->watson_developer_cloud)\n",
      "Requirement already satisfied: asn1crypto>=0.21.0 in /anaconda3/lib/python3.6/site-packages (from cryptography>=1.9->pyOpenSSL>=16.2.0->watson_developer_cloud)\n",
      "Requirement already satisfied: cffi>=1.7 in /anaconda3/lib/python3.6/site-packages (from cryptography>=1.9->pyOpenSSL>=16.2.0->watson_developer_cloud)\n",
      "Requirement already satisfied: pycparser in /anaconda3/lib/python3.6/site-packages (from cffi>=1.7->cryptography>=1.9->pyOpenSSL>=16.2.0->watson_developer_cloud)\n",
      "Requirement already satisfied: pandas in /anaconda3/lib/python3.6/site-packages\n",
      "Requirement already satisfied: python-dateutil>=2 in /anaconda3/lib/python3.6/site-packages (from pandas)\n",
      "Requirement already satisfied: pytz>=2011k in /anaconda3/lib/python3.6/site-packages (from pandas)\n",
      "Requirement already satisfied: numpy>=1.7.0 in /anaconda3/lib/python3.6/site-packages (from pandas)\n",
      "Requirement already satisfied: six>=1.5 in /anaconda3/lib/python3.6/site-packages (from python-dateutil>=2->pandas)\n",
      "Requirement already satisfied: matplotlib in /anaconda3/lib/python3.6/site-packages\n",
      "Requirement already satisfied: numpy>=1.7.1 in /anaconda3/lib/python3.6/site-packages (from matplotlib)\n",
      "Requirement already satisfied: six>=1.10 in /anaconda3/lib/python3.6/site-packages (from matplotlib)\n",
      "Requirement already satisfied: python-dateutil>=2.0 in /anaconda3/lib/python3.6/site-packages (from matplotlib)\n",
      "Requirement already satisfied: pytz in /anaconda3/lib/python3.6/site-packages (from matplotlib)\n",
      "Requirement already satisfied: cycler>=0.10 in /anaconda3/lib/python3.6/site-packages (from matplotlib)\n",
      "Requirement already satisfied: pyparsing!=2.0.4,!=2.1.2,!=2.1.6,>=2.0.1 in /anaconda3/lib/python3.6/site-packages (from matplotlib)\n",
      "Requirement already satisfied: cloudant in /anaconda3/lib/python3.6/site-packages\n",
      "Requirement already satisfied: requests<3.0.0,>=2.7.0 in /anaconda3/lib/python3.6/site-packages (from cloudant)\n",
      "Requirement already satisfied: chardet<3.1.0,>=3.0.2 in /anaconda3/lib/python3.6/site-packages (from requests<3.0.0,>=2.7.0->cloudant)\n",
      "Requirement already satisfied: idna<2.7,>=2.5 in /anaconda3/lib/python3.6/site-packages (from requests<3.0.0,>=2.7.0->cloudant)\n",
      "Requirement already satisfied: urllib3<1.23,>=1.21.1 in /anaconda3/lib/python3.6/site-packages (from requests<3.0.0,>=2.7.0->cloudant)\n",
      "Requirement already satisfied: certifi>=2017.4.17 in /anaconda3/lib/python3.6/site-packages (from requests<3.0.0,>=2.7.0->cloudant)\n",
      "Requirement already satisfied: bokeh==0.12.6 in /anaconda3/lib/python3.6/site-packages\n",
      "Requirement already satisfied: numpy>=1.7.1 in /anaconda3/lib/python3.6/site-packages (from bokeh==0.12.6)\n",
      "Requirement already satisfied: six>=1.5.2 in /anaconda3/lib/python3.6/site-packages (from bokeh==0.12.6)\n",
      "Requirement already satisfied: tornado>=4.3 in /anaconda3/lib/python3.6/site-packages (from bokeh==0.12.6)\n",
      "Requirement already satisfied: Jinja2>=2.7 in /anaconda3/lib/python3.6/site-packages (from bokeh==0.12.6)\n",
      "Requirement already satisfied: bkcharts>=0.2 in /anaconda3/lib/python3.6/site-packages (from bokeh==0.12.6)\n",
      "Requirement already satisfied: requests>=1.2.3 in /anaconda3/lib/python3.6/site-packages (from bokeh==0.12.6)\n",
      "Requirement already satisfied: PyYAML>=3.10 in /anaconda3/lib/python3.6/site-packages (from bokeh==0.12.6)\n",
      "Requirement already satisfied: python-dateutil>=2.1 in /anaconda3/lib/python3.6/site-packages (from bokeh==0.12.6)\n",
      "Requirement already satisfied: MarkupSafe>=0.23 in /anaconda3/lib/python3.6/site-packages (from Jinja2>=2.7->bokeh==0.12.6)\n",
      "Requirement already satisfied: chardet<3.1.0,>=3.0.2 in /anaconda3/lib/python3.6/site-packages (from requests>=1.2.3->bokeh==0.12.6)\n",
      "Requirement already satisfied: idna<2.7,>=2.5 in /anaconda3/lib/python3.6/site-packages (from requests>=1.2.3->bokeh==0.12.6)\n",
      "Requirement already satisfied: urllib3<1.23,>=1.21.1 in /anaconda3/lib/python3.6/site-packages (from requests>=1.2.3->bokeh==0.12.6)\n",
      "Requirement already satisfied: certifi>=2017.4.17 in /anaconda3/lib/python3.6/site-packages (from requests>=1.2.3->bokeh==0.12.6)\n",
      "Requirement already up-to-date: pixiedust in /Users/Srishti.Arora@ibm.com/PixieDust/pixiedust\n",
      "Requirement already up-to-date: mpld3 in /anaconda3/lib/python3.6/site-packages (from pixiedust)\n",
      "Requirement already up-to-date: lxml in /Users/Srishti.Arora@ibm.com/.local/lib/python3.6/site-packages (from pixiedust)\n",
      "Requirement already up-to-date: geojson in /anaconda3/lib/python3.6/site-packages (from pixiedust)\n"
     ]
    }
   ],
   "source": [
    "#### Run once to install all dependencies.. then comment out..\n",
    "# uncomment the following line to install/upgrade the PixieDust library\n",
    "! pip install pixiedust\n",
    "! pip install watson_developer_cloud --user\n",
    "! pip install pandas\n",
    "! pip install matplotlib\n",
    "! pip install cloudant\n",
    "! pip install bokeh==0.12.6\n",
    "! pip install --user --upgrade pixiedust"
   ]
  },
  {
   "cell_type": "code",
   "execution_count": 82,
   "metadata": {},
   "outputs": [],
   "source": [
    "#imports.... Run this each time after restarting the Kernel\n",
    "import pixiedust\n",
    "import json\n",
    "import datetime\n",
    "from watson_developer_cloud import ConversationV1\n",
    "import json\n",
    "import time\n",
    "import pandas\n",
    "credentials = json.loads(open('../../credentials.json').read())"
   ]
  },
  {
   "cell_type": "code",
   "execution_count": 83,
   "metadata": {
    "collapsed": true
   },
   "outputs": [],
   "source": [
    "#Run this cell each time after restarting the Kernel\n",
    "from cloudant.client import Cloudant\n",
    "\n",
    "class cloudant_database(object):\n",
    "    def __init__(self, db_name):\n",
    "        self.db_name = db_name\n",
    "        self.db = None\n",
    "        self.client = None\n",
    "\n",
    "    def login(self, username, password, url):\n",
    "        self.client = Cloudant(username, password, url=url, connect=True)\n",
    "\n",
    "    def create_database(self):\n",
    "        self.db = self.client.create_database(self.db_name)\n",
    "\n",
    "    def list_documents(self, prefix):\n",
    "        docs = []\n",
    "        for document in self.db:\n",
    "            name = document['_id']\n",
    "            #print(name)\n",
    "            if name and name.startswith(prefix):\n",
    "                docs.append(document)\n",
    "        return docs\n",
    "\n",
    "    def store_json_log(self, data, doc_id):\n",
    "        try:\n",
    "            self.db[doc_id]\n",
    "        except:\n",
    "            self.db.create_document({\"_id\":doc_id, \"data\": data})\n",
    "            print('document created')\n",
    "        else:\n",
    "            print('document exists')"
   ]
  },
  {
   "cell_type": "code",
   "execution_count": 84,
   "metadata": {
    "collapsed": true
   },
   "outputs": [],
   "source": [
    "cdb = cloudant_database('conversation-analysis')\n",
    "cdb.login(credentials['cloudant']['username'], credentials['cloudant']['password'], credentials['cloudant']['url'])\n",
    "cdb.create_database()"
   ]
  },
  {
   "cell_type": "code",
   "execution_count": 85,
   "metadata": {},
   "outputs": [],
   "source": [
    "def create_baseline(prefix):\n",
    "    utterances = cdb.list_documents(prefix)\n",
    "    baseline = utterances[len(utterances) - 1]\n",
    "    baseline = baseline['data']\n",
    "    return baseline\n",
    "\n",
    "def create_experiment(prefix):\n",
    "    ex = cdb.list_documents(prefix)\n",
    "    experiment_results = ex[len(ex) - 1]\n",
    "    experiment_results = experiment_results['data']\n",
    "    return experiment_results\n",
    "\n",
    "def mark_irrelevant(baseline):\n",
    "    for row in baseline:\n",
    "        if len(row['intents']) == 0:\n",
    "            row['intents'].append({'intent' : 'irrelevant', 'confidence' : 100})\n",
    "    return baseline\n"
   ]
  },
  {
   "cell_type": "code",
   "execution_count": 86,
   "metadata": {},
   "outputs": [
    {
     "name": "stderr",
     "output_type": "stream",
     "text": [
      "/anaconda3/lib/python3.6/site-packages/ipykernel_launcher.py:18: DeprecationWarning: generator 'CouchDatabase.__iter__' raised StopIteration\n"
     ]
    },
    {
     "ename": "IndexError",
     "evalue": "list index out of range",
     "output_type": "error",
     "traceback": [
      "\u001b[0;31m---------------------------------------------------------------------------\u001b[0m",
      "\u001b[0;31mIndexError\u001b[0m                                Traceback (most recent call last)",
      "\u001b[0;32m<ipython-input-86-d526c6c2c784>\u001b[0m in \u001b[0;36m<module>\u001b[0;34m()\u001b[0m\n\u001b[0;32m----> 1\u001b[0;31m \u001b[0mbaseline\u001b[0m \u001b[0;34m=\u001b[0m \u001b[0mcreate_baseline\u001b[0m\u001b[0;34m(\u001b[0m\u001b[0;34m\"utterances_\"\u001b[0m\u001b[0;34m)\u001b[0m\u001b[0;34m\u001b[0m\u001b[0m\n\u001b[0m\u001b[1;32m      2\u001b[0m \u001b[0mbaseline\u001b[0m \u001b[0;34m=\u001b[0m \u001b[0mmark_irrelevant\u001b[0m\u001b[0;34m(\u001b[0m\u001b[0mbaseline_1\u001b[0m\u001b[0;34m)\u001b[0m\u001b[0;34m\u001b[0m\u001b[0m\n\u001b[1;32m      3\u001b[0m \u001b[0;31m# print(baseline)\u001b[0m\u001b[0;34m\u001b[0m\u001b[0;34m\u001b[0m\u001b[0m\n\u001b[1;32m      4\u001b[0m \u001b[0mexperiment_results\u001b[0m \u001b[0;34m=\u001b[0m \u001b[0mcreate_experiment\u001b[0m\u001b[0;34m(\u001b[0m\u001b[0;34m\"experiment_\"\u001b[0m\u001b[0;34m)\u001b[0m\u001b[0;34m\u001b[0m\u001b[0m\n",
      "\u001b[0;32m<ipython-input-85-429cce90f25a>\u001b[0m in \u001b[0;36mcreate_baseline\u001b[0;34m(prefix)\u001b[0m\n\u001b[1;32m      1\u001b[0m \u001b[0;32mdef\u001b[0m \u001b[0mcreate_baseline\u001b[0m\u001b[0;34m(\u001b[0m\u001b[0mprefix\u001b[0m\u001b[0;34m)\u001b[0m\u001b[0;34m:\u001b[0m\u001b[0;34m\u001b[0m\u001b[0m\n\u001b[1;32m      2\u001b[0m     \u001b[0mutterances\u001b[0m \u001b[0;34m=\u001b[0m \u001b[0mcdb\u001b[0m\u001b[0;34m.\u001b[0m\u001b[0mlist_documents\u001b[0m\u001b[0;34m(\u001b[0m\u001b[0mprefix\u001b[0m\u001b[0;34m)\u001b[0m\u001b[0;34m\u001b[0m\u001b[0m\n\u001b[0;32m----> 3\u001b[0;31m     \u001b[0mbaseline\u001b[0m \u001b[0;34m=\u001b[0m \u001b[0mutterances\u001b[0m\u001b[0;34m[\u001b[0m\u001b[0mlen\u001b[0m\u001b[0;34m(\u001b[0m\u001b[0mutterances\u001b[0m\u001b[0;34m)\u001b[0m \u001b[0;34m-\u001b[0m \u001b[0;36m1\u001b[0m\u001b[0;34m]\u001b[0m\u001b[0;34m\u001b[0m\u001b[0m\n\u001b[0m\u001b[1;32m      4\u001b[0m     \u001b[0mbaseline\u001b[0m \u001b[0;34m=\u001b[0m \u001b[0mbaseline\u001b[0m\u001b[0;34m[\u001b[0m\u001b[0;34m'data'\u001b[0m\u001b[0;34m]\u001b[0m\u001b[0;34m\u001b[0m\u001b[0m\n\u001b[1;32m      5\u001b[0m     \u001b[0;32mreturn\u001b[0m \u001b[0mbaseline\u001b[0m\u001b[0;34m\u001b[0m\u001b[0m\n",
      "\u001b[0;31mIndexError\u001b[0m: list index out of range"
     ]
    }
   ],
   "source": [
    "baseline = create_baseline(\"utterances_\")\n",
    "baseline = mark_irrelevant(baseline_1)\n",
    "# print(baseline)\n",
    "experiment_results = create_experiment(\"experiment_\")\n"
   ]
  },
  {
   "cell_type": "code",
   "execution_count": 48,
   "metadata": {},
   "outputs": [],
   "source": [
    "conversation_local = ConversationV1(\n",
    "    username=credentials['conversation']['username'],\n",
    "    password=credentials['conversation']['password'],\n",
    "    version='2017-05-26')\n",
    "\n",
    "conversation_prod_ws = credentials['conversation']['workspace_id_prod']\n",
    "conversation_test_ws = credentials['conversation']['workspace_id_test']\n",
    "\n",
    "prod_ws = conversation_local.get_workspace(workspace_id=conversation_prod_ws, export=True)\n",
    "test_ws = conversation_local.get_workspace(workspace_id=conversation_test_ws, export=True)\n",
    "\n"
   ]
  },
  {
   "cell_type": "code",
   "execution_count": 36,
   "metadata": {},
   "outputs": [],
   "source": [
    "#count how many times each intent was used per experiment run\n",
    "def count_intents(list_name, count, prefix):\n",
    "    for row in list_name:\n",
    "        name = row['intents'][0]['intent']\n",
    "        if name not in count:\n",
    "            count[name] = {'baseline' : 0, 'experiment' : 0}\n",
    "        keys = count[name].keys()\n",
    "        count[name][prefix] = count[name][prefix] + 1\n",
    "    return count"
   ]
  },
  {
   "cell_type": "code",
   "execution_count": 37,
   "metadata": {
    "collapsed": true
   },
   "outputs": [],
   "source": [
    "count_1={}\n",
    "count_1 = count_intents(baseline, count_1,'baseline')\n",
    "count_1= count_intents(experiment_results, count_1,'experiment')\n",
    "# print(count_1)\n"
   ]
  },
  {
   "cell_type": "code",
   "execution_count": 72,
   "metadata": {},
   "outputs": [],
   "source": [
    "#Creating a data frame for count of intents in baseline and experiments\n",
    "def create_intent_dataframe(count):\n",
    "    arr = []    \n",
    "    for key in count:\n",
    "        arr.append({'name' : key, 'baseline' : count[key]['baseline'], 'experiment' : count[key]['experiment']})\n",
    "    intent_distribution_df = pandas.DataFrame(arr)\n",
    "    return intent_distribution_df"
   ]
  },
  {
   "cell_type": "code",
   "execution_count": 73,
   "metadata": {
    "collapsed": true
   },
   "outputs": [],
   "source": [
    "intent_distribution_df = get_intent_distribution_dataframe(count_1)"
   ]
  },
  {
   "cell_type": "code",
   "execution_count": 59,
   "metadata": {
    "collapsed": true
   },
   "outputs": [],
   "source": [
    "def create_intent_analysis_dataframe():\n",
    "    intent_analysis = []\n",
    "    prod_examples = 0\n",
    "    test_examples = 0\n",
    "    intent_analysis.append({'intent' : 'irrelevant', 'baseline': len(prod_ws['counterexamples']), 'experiment' : len(test_ws['counterexamples'])})\n",
    "    for intent in prod_ws['intents']:\n",
    "        prod_examples = prod_examples + len(intent['examples'])\n",
    "        intent_analysis.append({'intent' : intent['intent'], 'baseline' : len(intent['examples']), 'experiment' : 0})\n",
    "    \n",
    "    for intent in test_ws['intents']:\n",
    "        test_examples = test_examples + len(intent['examples'])\n",
    "        found = False\n",
    "        for intnt in intent_analysis:\n",
    "            if intnt['intent'] == intent['intent']:\n",
    "                found = True\n",
    "                intnt['experiment'] = len(intent['examples'])\n",
    "                break\n",
    "\n",
    "        if not found: \n",
    "            intent_analysis.append({'intent' : intent['intent'], 'baseline' : 0, 'experiment' : len(intent['examples'])})\n",
    "    intent_analysis_df = pandas.DataFrame(intent_analysis)\n",
    "#     print(test_examples)\n",
    "#     print(prod_examples)\n",
    "#     print(intent_analysis)\n",
    "    return intent_analysis_df"
   ]
  },
  {
   "cell_type": "code",
   "execution_count": 60,
   "metadata": {
    "collapsed": true
   },
   "outputs": [],
   "source": [
    "def count_examples(workspace):\n",
    "    examples = 0\n",
    "    for intent in workspace['intents']:\n",
    "        examples = examples + len(intent['examples'])\n",
    "    return examples\n",
    "\n",
    "def count_val_syn(workspace):\n",
    "    values = 0\n",
    "    synonyms = 0\n",
    "    for entity in workspace['entities']:\n",
    "        values = values + len(entity['values'])\n",
    "        for value in entity['values']:\n",
    "            synonyms = synonyms + len(value['synonyms'])\n",
    "    return (values, synonyms)\n",
    "    "
   ]
  },
  {
   "cell_type": "code",
   "execution_count": 62,
   "metadata": {},
   "outputs": [
    {
     "name": "stdout",
     "output_type": "stream",
     "text": [
      "2520\n",
      "9\n",
      "115\n",
      "329\n",
      "0\n",
      "0\n"
     ]
    }
   ],
   "source": [
    "# print(count_examples(test_ws))\n",
    "# print(count_examples(prod_ws))\n",
    "# print(count_val_syn(test_ws)[0])\n",
    "# print(count_val_syn(test_ws)[1])\n",
    "# print(count_val_syn(prod_ws)[0])\n",
    "# print(count_val_syn(prod_ws)[1])"
   ]
  },
  {
   "cell_type": "code",
   "execution_count": 63,
   "metadata": {
    "collapsed": true
   },
   "outputs": [],
   "source": [
    "def create_ws_analysis_dataframe():\n",
    "    ws_analysis = [] \n",
    "    ws_analysis.append({'name' : 'intents', 'baseline' : len(prod_ws['intents']), 'experiment' : len(test_ws['intents'])})\n",
    "    ws_analysis.append({'name' : 'entities', 'baseline' : len(prod_ws['entities']), 'experiment' : len(test_ws['entities'])})\n",
    "    ws_analysis.append({'name' : 'dialog_nodes', 'baseline' : len(prod_ws['dialog_nodes']), 'experiment' : len(test_ws['dialog_nodes'])})\n",
    "    ws_analysis.append({'name' : 'counterexamples', 'baseline' : len(prod_ws['counterexamples']), 'experiment' : len(test_ws['counterexamples'])})\n",
    "    \n",
    "    prod_examples = count_examples(prod_ws)\n",
    "    test_examples = count_examples(test_ws)\n",
    "    ws_analysis.append({'name' : 'examples', 'baseline' : prod_examples, 'experiment' : test_examples})\n",
    "    \n",
    "    prod_values = count_val_syn(prod_ws)[0]\n",
    "    prod_synonyms = count_val_syn(prod_ws)[1]\n",
    "    test_values = count_val_syn(test_ws)[0]\n",
    "    test_synonyms = count_val_syn(test_ws)[1]\n",
    "    \n",
    "    ws_analysis.append({'name' : 'values', 'baseline' : prod_values, 'experiment' : test_values})\n",
    "    ws_analysis.append({'name' : 'synonyms', 'baseline' : prod_synonyms, 'experiment' : test_synonyms})\n",
    "    \n",
    "    \n",
    "    ws_analysis_df = pandas.DataFrame(ws_analysis)\n",
    "    return ws_analysis_df"
   ]
  },
  {
   "cell_type": "code",
   "execution_count": 69,
   "metadata": {
    "collapsed": true
   },
   "outputs": [],
   "source": [
    "intent_analysis_df = create_intent_analysis_dataframe()\n",
    "ws_analysis_df = create_ws_analysis_dataframe()"
   ]
  },
  {
   "cell_type": "code",
   "execution_count": 75,
   "metadata": {
    "collapsed": true
   },
   "outputs": [],
   "source": [
    "#make a data frame with the original utterance, the intent from each run, the confidence, whether or not the \n",
    "#intent changed, and the confidence delta\n",
    "\n",
    "def create_delta(baseline, experiment_results):\n",
    "    merged1 = [{\"text\": b[\"text\"], \"intent_1\" : b['intents'][0]['intent'], \n",
    "           \"conf_1\" : b['intents'][0]['confidence']} for b in baseline]\n",
    "    merged2 =[{\"text\": b[\"text\"], \"intent_2\" : b['intents'][0]['intent'], \n",
    "           \"conf_2\" : b['intents'][0]['confidence']} for b in experiment_results]\n",
    "    merged = list(zip(merged1, merged2))\n",
    "\n",
    "    merged = [{'intent_1': b[0]['intent_1'], 'conf_1': b[0]['conf_1'],\n",
    "          'intent_2': b[1]['intent_2'], 'conf_2': b[1]['conf_2'], \n",
    "          'intent_changed' : b[0]['intent_1'] != b[1]['intent_2'],\n",
    "          'conf_delta' : b[1]['conf_2'] - b[0]['conf_1'], 'text' : b[0]['text']} for b in merged]\n",
    "    experiment_run_dataframe = pandas.DataFrame(merged)\n",
    "    experiment_run_dataframe = experiment_run_dataframe.loc[experiment_run_dataframe['intent_changed']==True]\n",
    "    return experiment_run_dataframe\n"
   ]
  },
  {
   "cell_type": "code",
   "execution_count": 79,
   "metadata": {
    "pixiedust": {
     "displayParams": {
      "aggregation": "SUM",
      "handlerId": "barChart",
      "keyFields": "name",
      "rowCount": "500",
      "valueFields": "baseline,experiment"
     }
    }
   },
   "outputs": [
    {
     "data": {
      "text/html": [
       "<style type=\"text/css\">.pd_warning{display:none;}</style><div class=\"pd_warning\"><em>Hey, there's something awesome here! To see it, open this notebook outside GitHub, in a viewer like Jupyter</em></div>\n",
       "        <div class=\"pd_save is-viewer-good\" style=\"padding-right:10px;text-align: center;line-height:initial !important;font-size: xx-large;font-weight: 500;color: coral;\">\n",
       "            \n",
       "        </div>\n",
       "    \n",
       "        <div id=\"chartFigureddfebd52\" class=\"pd_save\" style=\"overflow-x:auto\">\n",
       "            \n",
       "                    \n",
       "                            <center><img style=\"max-width:initial !important\" src=\"data:image/png;base64,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\" class=\"pd_save\"></center>\n",
       "                        \n",
       "                    \n",
       "                        <div>Some labels are not displayed because of a lack of space. Click on Stretch image to see them all</div>\n",
       "                    \n",
       "                \n",
       "        </div>\n",
       "    "
      ],
      "text/plain": [
       "<IPython.core.display.HTML object>"
      ]
     },
     "metadata": {},
     "output_type": "display_data"
    }
   ],
   "source": [
    "experiment_run_dataframe = create_delta(baseline, experiment_results)\n",
    "\n",
    "display(ws_analysis_df)\n",
    "display(intent_analysis_df)\n",
    "display(intent_distribution_df)\n",
    "display(experiment_run_dataframe)\n",
    "    \n",
    "\n",
    "#pdf = pdf.loc[pdf['conf_delta']>0.1]\n",
    "#display(pdf)"
   ]
  },
  {
   "cell_type": "code",
   "execution_count": null,
   "metadata": {
    "collapsed": true
   },
   "outputs": [],
   "source": []
  }
 ],
 "metadata": {
  "kernelspec": {
   "display_name": "Python 3",
   "language": "python",
   "name": "python3"
  },
  "language_info": {
   "codemirror_mode": {
    "name": "ipython",
    "version": 3
   },
   "file_extension": ".py",
   "mimetype": "text/x-python",
   "name": "python",
   "nbconvert_exporter": "python",
   "pygments_lexer": "ipython3",
   "version": "3.6.3"
  }
 },
 "nbformat": 4,
 "nbformat_minor": 2
}
